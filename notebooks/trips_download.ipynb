{
 "cells": [
  {
   "cell_type": "markdown",
   "metadata": {},
   "source": [
    "# Trip data\n",
    "This script is used to download data regarding the `trips`. To request the data, you need an API key. This should be stored in a `.env` file.\n",
    "\n",
    "**NOTE:** It's recommended to use a virtual environment to execute this notebook in. Generate one using the `create_jupyter_env.sh` script before running this file."
   ]
  },
  {
   "cell_type": "code",
   "execution_count": null,
   "metadata": {},
   "outputs": [],
   "source": [
    "# Install libraries if not already installed\n",
    "!pip3 install pandas python-dotenv"
   ]
  },
  {
   "cell_type": "code",
   "execution_count": null,
   "metadata": {},
   "outputs": [],
   "source": [
    "# Import libraries\n",
    "import os\n",
    "import pandas as pd\n",
    "import requests, urllib.request, urllib.parse, urllib.error, base64\n",
    "from dotenv import load_dotenv\n",
    "\n",
    "# Load environment variables\n",
    "load_dotenv()\n",
    "\n",
    "# Set secret from environment\n",
    "skey = os.environ.get('SKEY')\n",
    "static_key = os.environ.get('STATIC_KEY')\n",
    "\n",
    "# Check if the environment variables are set\n",
    "if None in [skey, static_key]:\n",
    "    print('Environment variables are not set. Do you have a .env file?')\n",
    "else:\n",
    "    print('Successfully imported environment variables.')"
   ]
  },
  {
   "cell_type": "code",
   "execution_count": null,
   "metadata": {},
   "outputs": [],
   "source": [
    "# Set request headers\n",
    "headers = {\n",
    "    'Ocp-Apim-Subscription-Key': skey,\n",
    "}\n",
    "\n",
    "# Set request parameters\n",
    "params = urllib.parse.urlencode({\n",
    "    'canceled': False,\n",
    "    'delay': False,\n",
    "    'position': True,\n",
    "    # 'vehicleid': False,\n",
    "    # 'tripid': False,\n",
    "})\n",
    "\n",
    "api_url = 'https://api.delijn.be/gtfs/v3/realtime?json=true'\n",
    "\n",
    "# Make the request\n",
    "response = requests.get(api_url, headers=headers, params=params)\n",
    "\n",
    "if response.status_code == 200:\n",
    "    try:\n",
    "        data = response.json()\n",
    "        print('Successfully retrieved data.')\n",
    "    except Exception as e:\n",
    "        print('An error occurred:', e)\n",
    "        print('Response:', response.text)\n",
    "else:\n",
    "    print('Failed to retrieve data! Status code:', response.status_code)"
   ]
  },
  {
   "cell_type": "code",
   "execution_count": null,
   "metadata": {},
   "outputs": [],
   "source": [
    "# Flatten function\n",
    "def flatten_trip_update(tu):\n",
    "    u = tu['tripUpdate']\n",
    "    t = u['trip']\n",
    "    result = {\n",
    "        'id': tu['id'],\n",
    "        'tripId': t['tripId']\n",
    "    }\n",
    "    if 'startDate' in t:\n",
    "        result['tripStartDate'] = t['startDate']\n",
    "    if 'scheduleRelationship' in t:\n",
    "        result['tripScheduleRelationship'] = t['scheduleRelationship']\n",
    "    if 'stopTimeUpdate' in u:\n",
    "        result['departureDelay'] = u['stopTimeUpdate'][0]['departure']['delay']\n",
    "        if 'stopId' in u['stopTimeUpdate'][0]:\n",
    "            result['departureStopId'] = u['stopTimeUpdate'][0]['stopId']\n",
    "        if 'vehicle' in u:\n",
    "            result['vehicle'] = u['vehicle']['id']\n",
    "        if 'timestamp' in u:\n",
    "            result['timestamp'] = u['timestamp']\n",
    "    result['orig'] = tu\n",
    "    return result\n",
    "\n",
    "# Generate convert data to trips dataframe\n",
    "triplist = [flatten_trip_update(tu) for tu in data['entity']]\n",
    "tripsdf = pd.DataFrame(triplist)"
   ]
  },
  {
   "cell_type": "code",
   "execution_count": null,
   "metadata": {},
   "outputs": [],
   "source": [
    "# Display the last 5 rows of the dataframe\n",
    "vehicleUpdates = tripsdf[tripsdf.vehicle.notnull()]\n",
    "vehicleUpdates.tail()"
   ]
  },
  {
   "cell_type": "code",
   "execution_count": null,
   "metadata": {},
   "outputs": [],
   "source": [
    "static_header = {\n",
    "    'Ocp-Apim-Subscription-Key': static_key,\n",
    "}\n",
    "\n",
    "static_url = 'https://api.delijn.be/gtfs/static/v3/gtfs_transit.zip'\n",
    "\n",
    "# Download the static GTFS data to a zip file\n",
    "# WARNING: This might take a while!\n",
    "with requests.get(static_url, headers=static_header, stream=True) as r:\n",
    "    r.raise_for_status()\n",
    "    with open(\"gtfs_transit.zip\", 'wb') as f:\n",
    "        for chunk in r.iter_content(chunk_size=8192):\n",
    "            f.write(chunk)\n",
    "        print('Downloaded static GTFS data to gtfs_transit.zip')\n",
    "        f.close()\n",
    "    r.close()"
   ]
  }
 ],
 "metadata": {
  "kernelspec": {
   "display_name": "Python 3",
   "language": "python",
   "name": "python3"
  },
  "language_info": {
   "codemirror_mode": {
    "name": "ipython",
    "version": 3
   },
   "file_extension": ".py",
   "mimetype": "text/x-python",
   "name": "python",
   "nbconvert_exporter": "python",
   "pygments_lexer": "ipython3",
   "version": "3.12.3"
  }
 },
 "nbformat": 4,
 "nbformat_minor": 2
}
